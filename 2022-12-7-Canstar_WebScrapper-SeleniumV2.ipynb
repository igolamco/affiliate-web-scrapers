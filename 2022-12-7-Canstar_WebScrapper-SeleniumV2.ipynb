{
 "cells": [
  {
   "cell_type": "code",
   "execution_count": null,
   "id": "99f74da9",
   "metadata": {},
   "outputs": [],
   "source": [
    "import datetime\n",
    "import pandas as pd\n",
    "from selenium import webdriver\n",
    "from selenium.webdriver.common.by import By\n",
    "from selenium.webdriver.support.ui import WebDriverWait\n",
    "from selenium.webdriver.support import expected_conditions as EC\n",
    "\n",
    "driver = webdriver.Chrome()\n",
    "url = 'https://www.canstar.com.au/home-loans'\n",
    "driver.get(url)\n",
    "\n",
    "driver.execute_script(\"window.scrollTo(0, 2080)\") \n",
    "\n",
    "get_today = datetime.datetime.now()\n",
    "today = get_today.strftime('%d/%m/%Y')\n",
    "affiliate = 'Canstar'\n",
    "rank = 1\n",
    "\n",
    "results = [['Date', 'Affiliate', 'Position', 'Provider', 'Product', 'Loan Type']]\n",
    "\n",
    "loans = WebDriverWait(driver, 30).until(EC.presence_of_all_elements_located((By.XPATH, \"//cnslib-table-card\")))\n",
    "\n",
    "for i in range(1, len(loans)):\n",
    "    loan_listing =  WebDriverWait(driver, 30).until(EC.presence_of_element_located((By.XPATH, f\"((//cnslib-table-card)[{i}]//a)[1]\"))).text\n",
    "    loan_entry = str(today) + ' | ' + str(affiliate) + ' | ' + str(rank) + ' | ' + str(loan_listing)\n",
    "    rank = rank + 1\n",
    "    results.append(loan_entry.strip().split(' | '))\n",
    "\n",
    "df = pd.DataFrame(results[1:], columns=results[0]).to_dict('list')\n",
    "df2 = pd.DataFrame(df)\n",
    "\n",
    "print(df2)\n",
    "df2.to_csv('canstar.csv', index=False, encoding='utf-8')"
   ]
  }
 ],
 "metadata": {
  "kernelspec": {
   "display_name": "Python 3 (ipykernel)",
   "language": "python",
   "name": "python3"
  },
  "language_info": {
   "codemirror_mode": {
    "name": "ipython",
    "version": 3
   },
   "file_extension": ".py",
   "mimetype": "text/x-python",
   "name": "python",
   "nbconvert_exporter": "python",
   "pygments_lexer": "ipython3",
   "version": "3.9.13"
  }
 },
 "nbformat": 4,
 "nbformat_minor": 5
}
