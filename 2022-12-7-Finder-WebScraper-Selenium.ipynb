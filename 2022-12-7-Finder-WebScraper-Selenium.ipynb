{
 "cells": [
  {
   "cell_type": "code",
   "execution_count": 75,
   "id": "8e86e5a7",
   "metadata": {},
   "outputs": [
    {
     "name": "stdout",
     "output_type": "stream",
     "text": [
      "          Date Affiliate Position      Provider  \\\n",
      "0   07/12/2022    Finder        1        Unloan   \n",
      "1   07/12/2022    Finder        2          HSBC   \n",
      "2   07/12/2022    Finder        3         Ubank   \n",
      "3   07/12/2022    Finder        4       Bendigo   \n",
      "4   07/12/2022    Finder        5       Tic:Toc   \n",
      "5   07/12/2022    Finder        6     Macquarie   \n",
      "6   07/12/2022    Finder        7           AMP   \n",
      "7   07/12/2022    Finder        8          HSBC   \n",
      "8   07/12/2022    Finder        9  loans.com.au   \n",
      "9   07/12/2022    Finder       10       Greater   \n",
      "10  07/12/2022    Finder       11           IMB   \n",
      "11  07/12/2022    Finder       12         Ubank   \n",
      "12  07/12/2022    Finder       13        Athena   \n",
      "13  07/12/2022    Finder       14        Unloan   \n",
      "14  07/12/2022    Finder       15          HSBC   \n",
      "15  07/12/2022    Finder       16     Macquarie   \n",
      "16  07/12/2022    Finder       17           AMP   \n",
      "17  07/12/2022    Finder       18       Tic:Toc   \n",
      "18  07/12/2022    Finder       19     Macquarie   \n",
      "\n",
      "                                        Product  \n",
      "0                            Variable Home Loan  \n",
      "1                               Home Value Loan  \n",
      "2                       Neat Variable Home Loan  \n",
      "3       Bank Live in Express Variable Home Loan  \n",
      "4                    Live in Loan Variable Rate  \n",
      "5                 Bank Offset Home Loan Package  \n",
      "6                      Bank Essential Home Loan  \n",
      "7                               Home Value Loan  \n",
      "8                            Variable Home Loan  \n",
      "9   Bank Great Rate Discount Variable Home Loan  \n",
      "10                             Budget Home Loan  \n",
      "11                      Neat Variable Home Loan  \n",
      "12                           Variable Home Loan  \n",
      "13                           Variable Home Loan  \n",
      "14                              Home Value Loan  \n",
      "15                Bank Offset Home Loan Package  \n",
      "16                     Bank Essential Home Loan  \n",
      "17            Live-in Loan Fixed Rate Home Loan  \n",
      "18                         Bank Basic Home Loan  \n"
     ]
    }
   ],
   "source": [
    "import datetime\n",
    "import pandas as pd\n",
    "from selenium import webdriver\n",
    "from selenium.webdriver.common.by import By\n",
    "from selenium.webdriver.support.ui import WebDriverWait\n",
    "from selenium.webdriver.support import expected_conditions as EC\n",
    "\n",
    "driver = webdriver.Chrome()\n",
    "url = 'https://www.finder.com.au/home-loans'\n",
    "driver.get(url)\n",
    "\n",
    "driver.execute_script(\"window.scrollTo(0, 2080)\") \n",
    "\n",
    "get_today = datetime.datetime.now()\n",
    "today = get_today.strftime('%d/%m/%Y')\n",
    "affiliate = 'Finder'\n",
    "rank = 1\n",
    "\n",
    "results = [['Date', 'Affiliate', 'Position', 'Provider', 'Product']]\n",
    "\n",
    "# loans = WebDriverWait(driver, 30).until(EC.presence_of_all_elements_located((By.XPATH, '//*[@id=\"comparison-table-0000000000\"]//*')))\n",
    "loans = WebDriverWait(driver, 30).until(EC.presence_of_all_elements_located((By.XPATH, '//*[@id=\"comparison-table-0000000000\"]//a[@class=\"nameLink\"]')))\n",
    "\n",
    "for i in range(1, len(loans)):\n",
    "    loan_listing = WebDriverWait(driver, 30).until(EC.presence_of_element_located((By.XPATH, f'//*[@id=\"comparison-table-0000000000\"]/tbody/tr[{i}]//a[1]'))).text\n",
    "    loan_entry = str(today) + ' ' + str(affiliate) + ' ' + str(rank) + ' ' + str(loan_listing)\n",
    "    rank = rank + 1\n",
    "    results.append(loan_entry.split(' ', 4))\n",
    "    \n",
    "df = pd.DataFrame(results[1:], columns=results[0]).to_dict('list')\n",
    "df2 = pd.DataFrame(df)\n",
    "\n",
    "print(df2)\n",
    "df2.to_csv('finder.csv', index=False, encoding='utf-8')"
   ]
  },
  {
   "cell_type": "code",
   "execution_count": null,
   "id": "1de6d668",
   "metadata": {},
   "outputs": [],
   "source": []
  }
 ],
 "metadata": {
  "kernelspec": {
   "display_name": "Python 3 (ipykernel)",
   "language": "python",
   "name": "python3"
  },
  "language_info": {
   "codemirror_mode": {
    "name": "ipython",
    "version": 3
   },
   "file_extension": ".py",
   "mimetype": "text/x-python",
   "name": "python",
   "nbconvert_exporter": "python",
   "pygments_lexer": "ipython3",
   "version": "3.9.13"
  }
 },
 "nbformat": 4,
 "nbformat_minor": 5
}
